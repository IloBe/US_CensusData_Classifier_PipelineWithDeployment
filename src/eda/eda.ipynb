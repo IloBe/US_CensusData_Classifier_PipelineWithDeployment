{
 "cells": [
  {
   "cell_type": "markdown",
   "id": "2153a8d0-86a4-4593-a2e8-3d46e6f327ee",
   "metadata": {},
   "source": [
    "# Exploratory Data Analysis and Preprocessing of US Census Data\n",
    "\n",
    "## Table of Content\n",
    "This notebook includes the ETL pipeline creation topic, the cleaned .\n",
    "\n",
    "**Part 1: ETL (Explore-Transform-Load):**<br>\n",
    "* [1. Data Wrangling](#1.) - with import libraries, gather datasets and first cleaning activities\n",
    "* [2. EDA](#2.) - with data exploration including statistics and visualisations, starting general feature engineering\n",
    "* [3. Further Feature Engineering](#3.) - additional feature preparation necessary for our classification task of the US data\n",
    "* [4. Load](#4.) - we store the modified dataset as _preproc_census.csv_ file, but not in the associated GitHub repository. There dvc is used for versioning."
   ]
  },
  {
   "cell_type": "markdown",
   "id": "6ec2daf7-0306-4d25-a379-2e4c8cf137e5",
   "metadata": {},
   "source": [
    "---\n",
    "\n",
    "## Part 1: ETL\n",
    "\n",
    "<a id='1.'></a>\n",
    "### 1. Data Wrangling\n",
    "In this section of the project, after libraries import, the dataset is loaded, a brief overview of the data structure is given and its general properties are checked. Cleaning is started if necessary."
   ]
  },
  {
   "cell_type": "code",
   "execution_count": 61,
   "id": "90e2f42d-e31c-43ab-87b9-4de1f4aa5432",
   "metadata": {},
   "outputs": [
    {
     "name": "stdout",
     "output_type": "stream",
     "text": [
      "2023-08-21 13:28:45 - matplotlib.pyplot - DEBUG - Loaded backend module://matplotlib_inline.backend_inline version unknown.\n"
     ]
    }
   ],
   "source": [
    "#\n",
    "#  imports\n",
    "#\n",
    "import re\n",
    "import sys\n",
    "import numpy as np\n",
    "import pandas as pd\n",
    "import logging\n",
    "import logging.config\n",
    "import yaml\n",
    "\n",
    "from ydata_profiling import ProfileReport\n",
    "import scipy.stats as st\n",
    "\n",
    "# for ETL part\n",
    "import sklearn\n",
    "from sklearn import set_config  # necessary to display estimator pipeline diagrams\n",
    "from sklearn.impute import SimpleImputer, KNNImputer\n",
    "from sklearn.pipeline import Pipeline\n",
    "from sklearn.compose import ColumnTransformer\n",
    "from sklearn.preprocessing import scale, StandardScaler, MinMaxScaler, RobustScaler, OneHotEncoder\n",
    "from sklearn import metrics\n",
    "\n",
    "\n",
    "# for visualisations\n",
    "from IPython.display import display # Allows use of display() for DataFrames\n",
    "import seaborn as sns\n",
    "sns.set('notebook')\n",
    "import matplotlib.pyplot as plt\n",
    "# plotted graphics appear in the notebook just after current cell\n",
    "%matplotlib inline  \n",
    "\n",
    "# suppress matplotlib user warnings\n",
    "import warnings\n",
    "warnings.filterwarnings(\"ignore\", \n",
    "                        category = Warning,\n",
    "                        module = \"matplotlib\")"
   ]
  },
  {
   "cell_type": "code",
   "execution_count": 55,
   "id": "7684e631-d584-4ef6-9138-9fba0367b121",
   "metadata": {},
   "outputs": [],
   "source": [
    "# \n",
    "# config file\n",
    "#\n",
    "CONFIG_FILE = '../../config.yml'"
   ]
  },
  {
   "cell_type": "code",
   "execution_count": 56,
   "id": "f0f17a0d-39d3-46d4-bd0c-005aed24ae92",
   "metadata": {},
   "outputs": [],
   "source": [
    "# set logging properties\n",
    "with open(CONFIG_FILE, 'r') as f:\n",
    "    try:\n",
    "        config = yaml.safe_load(f.read())\n",
    "        logging.config.dictConfig(config['logging'])\n",
    "    except yaml.YAMLError as exc:\n",
    "        print(f'Cannot create logger: {exc}')\n",
    "\n",
    "# get logger (we use staging, knowing that file&console concepts work)\n",
    "logger = logging.getLogger('staging')"
   ]
  },
  {
   "cell_type": "code",
   "execution_count": 45,
   "id": "635bed89-edda-48dd-aa43-a7ccda731d14",
   "metadata": {},
   "outputs": [
    {
     "name": "stdout",
     "output_type": "stream",
     "text": [
      "2023-08-21 11:26:30 - staging - INFO - installed system versions: None\n"
     ]
    }
   ],
   "source": [
    "# If necessary during coding: \n",
    "# which kind of pandas and other libs are we using?\n",
    "# what kind of encoding exists\n",
    "logger.info(f\"installed system versions: \\\n",
    "            {pd.show_versions(str(config['logging']['handlers']['file']['filename']))}\")"
   ]
  },
  {
   "cell_type": "code",
   "execution_count": 50,
   "id": "554637cf-2868-4261-8c02-379c5ba3c2a3",
   "metadata": {},
   "outputs": [
    {
     "name": "stdout",
     "output_type": "stream",
     "text": [
      "2023-08-21 11:38:27 - staging - INFO - \n",
      "'US census' orig dataset has 32561 samples with 15 features each.\n"
     ]
    }
   ],
   "source": [
    "# get original US census data csv filen (comma separator)\n",
    "try:\n",
    "    df_census_orig = pd.read_csv(str(config['etl']['orig_census']))\n",
    "    logger.info(\"\\n'US census' orig dataset has {} samples with {} features each.\".format(*df_census_orig.shape))\n",
    "except:\n",
    "    logger.error(\"US census orig dataset could not be loaded. Is it missing?\")"
   ]
  },
  {
   "cell_type": "code",
   "execution_count": 51,
   "id": "193ab7d7-d796-4fe3-9ce0-b4b31383fe8d",
   "metadata": {},
   "outputs": [
    {
     "name": "stdout",
     "output_type": "stream",
     "text": [
      "<class 'pandas.core.frame.DataFrame'>\n",
      "RangeIndex: 32561 entries, 0 to 32560\n",
      "Data columns (total 15 columns):\n",
      " #   Column           Non-Null Count  Dtype \n",
      "---  ------           --------------  ----- \n",
      " 0   age              32561 non-null  int64 \n",
      " 1    workclass       32561 non-null  object\n",
      " 2    fnlgt           32561 non-null  int64 \n",
      " 3    education       32561 non-null  object\n",
      " 4    education-num   32561 non-null  int64 \n",
      " 5    marital-status  32561 non-null  object\n",
      " 6    occupation      32561 non-null  object\n",
      " 7    relationship    32561 non-null  object\n",
      " 8    race            32561 non-null  object\n",
      " 9    sex             32561 non-null  object\n",
      " 10   capital-gain    32561 non-null  int64 \n",
      " 11   capital-loss    32561 non-null  int64 \n",
      " 12   hours-per-week  32561 non-null  int64 \n",
      " 13   native-country  32561 non-null  object\n",
      " 14   salary          32561 non-null  object\n",
      "dtypes: int64(6), object(9)\n",
      "memory usage: 3.7+ MB\n"
     ]
    }
   ],
   "source": [
    "df_census_orig.info()"
   ]
  },
  {
   "cell_type": "code",
   "execution_count": 52,
   "id": "5dbfe59d-8b84-440b-b909-5dcc8df9a265",
   "metadata": {},
   "outputs": [
    {
     "data": {
      "text/html": [
       "<div>\n",
       "<style scoped>\n",
       "    .dataframe tbody tr th:only-of-type {\n",
       "        vertical-align: middle;\n",
       "    }\n",
       "\n",
       "    .dataframe tbody tr th {\n",
       "        vertical-align: top;\n",
       "    }\n",
       "\n",
       "    .dataframe thead th {\n",
       "        text-align: right;\n",
       "    }\n",
       "</style>\n",
       "<table border=\"1\" class=\"dataframe\">\n",
       "  <thead>\n",
       "    <tr style=\"text-align: right;\">\n",
       "      <th></th>\n",
       "      <th>age</th>\n",
       "      <th>workclass</th>\n",
       "      <th>fnlgt</th>\n",
       "      <th>education</th>\n",
       "      <th>education-num</th>\n",
       "      <th>marital-status</th>\n",
       "      <th>occupation</th>\n",
       "      <th>relationship</th>\n",
       "      <th>race</th>\n",
       "      <th>sex</th>\n",
       "      <th>capital-gain</th>\n",
       "      <th>capital-loss</th>\n",
       "      <th>hours-per-week</th>\n",
       "      <th>native-country</th>\n",
       "      <th>salary</th>\n",
       "    </tr>\n",
       "  </thead>\n",
       "  <tbody>\n",
       "    <tr>\n",
       "      <th>0</th>\n",
       "      <td>39</td>\n",
       "      <td>State-gov</td>\n",
       "      <td>77516</td>\n",
       "      <td>Bachelors</td>\n",
       "      <td>13</td>\n",
       "      <td>Never-married</td>\n",
       "      <td>Adm-clerical</td>\n",
       "      <td>Not-in-family</td>\n",
       "      <td>White</td>\n",
       "      <td>Male</td>\n",
       "      <td>2174</td>\n",
       "      <td>0</td>\n",
       "      <td>40</td>\n",
       "      <td>United-States</td>\n",
       "      <td>&lt;=50K</td>\n",
       "    </tr>\n",
       "    <tr>\n",
       "      <th>1</th>\n",
       "      <td>50</td>\n",
       "      <td>Self-emp-not-inc</td>\n",
       "      <td>83311</td>\n",
       "      <td>Bachelors</td>\n",
       "      <td>13</td>\n",
       "      <td>Married-civ-spouse</td>\n",
       "      <td>Exec-managerial</td>\n",
       "      <td>Husband</td>\n",
       "      <td>White</td>\n",
       "      <td>Male</td>\n",
       "      <td>0</td>\n",
       "      <td>0</td>\n",
       "      <td>13</td>\n",
       "      <td>United-States</td>\n",
       "      <td>&lt;=50K</td>\n",
       "    </tr>\n",
       "    <tr>\n",
       "      <th>2</th>\n",
       "      <td>38</td>\n",
       "      <td>Private</td>\n",
       "      <td>215646</td>\n",
       "      <td>HS-grad</td>\n",
       "      <td>9</td>\n",
       "      <td>Divorced</td>\n",
       "      <td>Handlers-cleaners</td>\n",
       "      <td>Not-in-family</td>\n",
       "      <td>White</td>\n",
       "      <td>Male</td>\n",
       "      <td>0</td>\n",
       "      <td>0</td>\n",
       "      <td>40</td>\n",
       "      <td>United-States</td>\n",
       "      <td>&lt;=50K</td>\n",
       "    </tr>\n",
       "    <tr>\n",
       "      <th>3</th>\n",
       "      <td>53</td>\n",
       "      <td>Private</td>\n",
       "      <td>234721</td>\n",
       "      <td>11th</td>\n",
       "      <td>7</td>\n",
       "      <td>Married-civ-spouse</td>\n",
       "      <td>Handlers-cleaners</td>\n",
       "      <td>Husband</td>\n",
       "      <td>Black</td>\n",
       "      <td>Male</td>\n",
       "      <td>0</td>\n",
       "      <td>0</td>\n",
       "      <td>40</td>\n",
       "      <td>United-States</td>\n",
       "      <td>&lt;=50K</td>\n",
       "    </tr>\n",
       "    <tr>\n",
       "      <th>4</th>\n",
       "      <td>28</td>\n",
       "      <td>Private</td>\n",
       "      <td>338409</td>\n",
       "      <td>Bachelors</td>\n",
       "      <td>13</td>\n",
       "      <td>Married-civ-spouse</td>\n",
       "      <td>Prof-specialty</td>\n",
       "      <td>Wife</td>\n",
       "      <td>Black</td>\n",
       "      <td>Female</td>\n",
       "      <td>0</td>\n",
       "      <td>0</td>\n",
       "      <td>40</td>\n",
       "      <td>Cuba</td>\n",
       "      <td>&lt;=50K</td>\n",
       "    </tr>\n",
       "    <tr>\n",
       "      <th>5</th>\n",
       "      <td>37</td>\n",
       "      <td>Private</td>\n",
       "      <td>284582</td>\n",
       "      <td>Masters</td>\n",
       "      <td>14</td>\n",
       "      <td>Married-civ-spouse</td>\n",
       "      <td>Exec-managerial</td>\n",
       "      <td>Wife</td>\n",
       "      <td>White</td>\n",
       "      <td>Female</td>\n",
       "      <td>0</td>\n",
       "      <td>0</td>\n",
       "      <td>40</td>\n",
       "      <td>United-States</td>\n",
       "      <td>&lt;=50K</td>\n",
       "    </tr>\n",
       "    <tr>\n",
       "      <th>6</th>\n",
       "      <td>49</td>\n",
       "      <td>Private</td>\n",
       "      <td>160187</td>\n",
       "      <td>9th</td>\n",
       "      <td>5</td>\n",
       "      <td>Married-spouse-absent</td>\n",
       "      <td>Other-service</td>\n",
       "      <td>Not-in-family</td>\n",
       "      <td>Black</td>\n",
       "      <td>Female</td>\n",
       "      <td>0</td>\n",
       "      <td>0</td>\n",
       "      <td>16</td>\n",
       "      <td>Jamaica</td>\n",
       "      <td>&lt;=50K</td>\n",
       "    </tr>\n",
       "    <tr>\n",
       "      <th>7</th>\n",
       "      <td>52</td>\n",
       "      <td>Self-emp-not-inc</td>\n",
       "      <td>209642</td>\n",
       "      <td>HS-grad</td>\n",
       "      <td>9</td>\n",
       "      <td>Married-civ-spouse</td>\n",
       "      <td>Exec-managerial</td>\n",
       "      <td>Husband</td>\n",
       "      <td>White</td>\n",
       "      <td>Male</td>\n",
       "      <td>0</td>\n",
       "      <td>0</td>\n",
       "      <td>45</td>\n",
       "      <td>United-States</td>\n",
       "      <td>&gt;50K</td>\n",
       "    </tr>\n",
       "    <tr>\n",
       "      <th>8</th>\n",
       "      <td>31</td>\n",
       "      <td>Private</td>\n",
       "      <td>45781</td>\n",
       "      <td>Masters</td>\n",
       "      <td>14</td>\n",
       "      <td>Never-married</td>\n",
       "      <td>Prof-specialty</td>\n",
       "      <td>Not-in-family</td>\n",
       "      <td>White</td>\n",
       "      <td>Female</td>\n",
       "      <td>14084</td>\n",
       "      <td>0</td>\n",
       "      <td>50</td>\n",
       "      <td>United-States</td>\n",
       "      <td>&gt;50K</td>\n",
       "    </tr>\n",
       "    <tr>\n",
       "      <th>9</th>\n",
       "      <td>42</td>\n",
       "      <td>Private</td>\n",
       "      <td>159449</td>\n",
       "      <td>Bachelors</td>\n",
       "      <td>13</td>\n",
       "      <td>Married-civ-spouse</td>\n",
       "      <td>Exec-managerial</td>\n",
       "      <td>Husband</td>\n",
       "      <td>White</td>\n",
       "      <td>Male</td>\n",
       "      <td>5178</td>\n",
       "      <td>0</td>\n",
       "      <td>40</td>\n",
       "      <td>United-States</td>\n",
       "      <td>&gt;50K</td>\n",
       "    </tr>\n",
       "  </tbody>\n",
       "</table>\n",
       "</div>"
      ],
      "text/plain": [
       "   age          workclass   fnlgt   education   education-num  \\\n",
       "0   39          State-gov   77516   Bachelors              13   \n",
       "1   50   Self-emp-not-inc   83311   Bachelors              13   \n",
       "2   38            Private  215646     HS-grad               9   \n",
       "3   53            Private  234721        11th               7   \n",
       "4   28            Private  338409   Bachelors              13   \n",
       "5   37            Private  284582     Masters              14   \n",
       "6   49            Private  160187         9th               5   \n",
       "7   52   Self-emp-not-inc  209642     HS-grad               9   \n",
       "8   31            Private   45781     Masters              14   \n",
       "9   42            Private  159449   Bachelors              13   \n",
       "\n",
       "           marital-status          occupation    relationship    race  \\\n",
       "0           Never-married        Adm-clerical   Not-in-family   White   \n",
       "1      Married-civ-spouse     Exec-managerial         Husband   White   \n",
       "2                Divorced   Handlers-cleaners   Not-in-family   White   \n",
       "3      Married-civ-spouse   Handlers-cleaners         Husband   Black   \n",
       "4      Married-civ-spouse      Prof-specialty            Wife   Black   \n",
       "5      Married-civ-spouse     Exec-managerial            Wife   White   \n",
       "6   Married-spouse-absent       Other-service   Not-in-family   Black   \n",
       "7      Married-civ-spouse     Exec-managerial         Husband   White   \n",
       "8           Never-married      Prof-specialty   Not-in-family   White   \n",
       "9      Married-civ-spouse     Exec-managerial         Husband   White   \n",
       "\n",
       "       sex   capital-gain   capital-loss   hours-per-week  native-country  \\\n",
       "0     Male           2174              0               40   United-States   \n",
       "1     Male              0              0               13   United-States   \n",
       "2     Male              0              0               40   United-States   \n",
       "3     Male              0              0               40   United-States   \n",
       "4   Female              0              0               40            Cuba   \n",
       "5   Female              0              0               40   United-States   \n",
       "6   Female              0              0               16         Jamaica   \n",
       "7     Male              0              0               45   United-States   \n",
       "8   Female          14084              0               50   United-States   \n",
       "9     Male           5178              0               40   United-States   \n",
       "\n",
       "   salary  \n",
       "0   <=50K  \n",
       "1   <=50K  \n",
       "2   <=50K  \n",
       "3   <=50K  \n",
       "4   <=50K  \n",
       "5   <=50K  \n",
       "6   <=50K  \n",
       "7    >50K  \n",
       "8    >50K  \n",
       "9    >50K  "
      ]
     },
     "execution_count": 52,
     "metadata": {},
     "output_type": "execute_result"
    }
   ],
   "source": [
    "df_census_orig.head(10)"
   ]
  },
  {
   "cell_type": "code",
   "execution_count": 57,
   "id": "84690d2a-e685-4f02-a0e8-15c91e92966b",
   "metadata": {},
   "outputs": [],
   "source": [
    "# create profiling report of original census data\n",
    "profile = ProfileReport(df_census_orig,\n",
    "                        title=str(config['eda']['orig_report_title']))"
   ]
  },
  {
   "cell_type": "code",
   "execution_count": 62,
   "id": "96c9d89d-459f-4d9f-98a3-b2adfa69e8aa",
   "metadata": {},
   "outputs": [
    {
     "data": {
      "application/vnd.jupyter.widget-view+json": {
       "model_id": "3b3dc99bbb2845b9924b899fd0118f0f",
       "version_major": 2,
       "version_minor": 0
      },
      "text/plain": [
       "Export report to file:   0%|          | 0/1 [00:00<?, ?it/s]"
      ]
     },
     "metadata": {},
     "output_type": "display_data"
    },
    {
     "name": "stdout",
     "output_type": "stream",
     "text": [
      "2023-08-21 13:29:09 - staging - INFO - EDA report stored as ./eda_census_orig_report.html.\n"
     ]
    }
   ],
   "source": [
    "profile.to_file(str(config['eda']['orig_census_report']))\n",
    "logger.info(f\"EDA report stored as {config['eda']['orig_census_report']}.\")"
   ]
  },
  {
   "cell_type": "code",
   "execution_count": 63,
   "id": "541ea005-4fd3-428b-b334-c880a46d6d4c",
   "metadata": {},
   "outputs": [
    {
     "data": {
      "text/plain": [
       "24"
      ]
     },
     "execution_count": 63,
     "metadata": {},
     "output_type": "execute_result"
    }
   ],
   "source": [
    "df_census_orig.duplicated().sum()"
   ]
  }
 ],
 "metadata": {
  "kernelspec": {
   "display_name": "Python 3 (ipykernel)",
   "language": "python",
   "name": "python3"
  },
  "language_info": {
   "codemirror_mode": {
    "name": "ipython",
    "version": 3
   },
   "file_extension": ".py",
   "mimetype": "text/x-python",
   "name": "python",
   "nbconvert_exporter": "python",
   "pygments_lexer": "ipython3",
   "version": "3.10.9"
  }
 },
 "nbformat": 4,
 "nbformat_minor": 5
}
