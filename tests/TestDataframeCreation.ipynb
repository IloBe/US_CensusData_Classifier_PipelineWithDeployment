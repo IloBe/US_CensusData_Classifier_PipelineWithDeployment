{
 "cells": [
  {
   "cell_type": "markdown",
   "id": "b54d2a46-fd43-4cdc-85bf-7b1ef4dca049",
   "metadata": {},
   "source": [
    "This notebook is used to create the dataframe for testing purposes once."
   ]
  },
  {
   "cell_type": "code",
   "execution_count": 1,
   "id": "6863d806-297a-467a-b746-0eeb4b97b4ac",
   "metadata": {},
   "outputs": [],
   "source": [
    "# imports\n",
    "import os\n",
    "import yaml\n",
    "import time\n",
    "import pandas as pd\n",
    "from pathlib import Path"
   ]
  },
  {
   "cell_type": "code",
   "execution_count": 2,
   "id": "511aa885-42db-49d9-9eab-9af514488e83",
   "metadata": {},
   "outputs": [],
   "source": [
    "# coding\n",
    "\n",
    "def get_config():\n",
    "    ''' Returns the configuration file '''\n",
    "    ROOT = os.getcwd()\n",
    "    # we are in tests dir, but need src\n",
    "    CONFIG_PATH = '../src/config/config.yml'\n",
    "    CONFIG_FILE = os.path.join(ROOT, CONFIG_PATH)\n",
    "    if os.path.exists(CONFIG_FILE):\n",
    "        with open(CONFIG_FILE, 'r') as f:\n",
    "            try:\n",
    "                config_dict = yaml.safe_load(f.read())\n",
    "                print(f'Configuration yml file content is:\\n {config_dict}')\n",
    "                return config_dict\n",
    "            except yaml.YAMLError as e:\n",
    "                print(f\"YAMLError parsing config.yml: {e}\")\n",
    "            except Exception as e:\n",
    "                print(f\"Exception creating config file: {e}\")\n",
    "    else:\n",
    "        print(f\"CONFIG_FILE: {CONFIG_FILE}\")"
   ]
  },
  {
   "cell_type": "code",
   "execution_count": 3,
   "id": "4178ad2d-660a-4f16-9f56-8d70da94239a",
   "metadata": {},
   "outputs": [
    {
     "name": "stdout",
     "output_type": "stream",
     "text": [
      "Configuration yml file content is:\n",
      " {'main': {'project_name': 'census-project'}, 'logging': {'version': 1, 'disable_existing_loggers': False, 'formatters': {'simple': {'format': '%(asctime)s - %(name)s - %(levelname)s - %(message)s', 'datefmt': '%Y-%m-%d %H:%M:%S'}, 'color': {'format': '%(asctime)s - %(threadName)s - %(name)s - %(levelname)s - %(message)s - %(lineno)s', '()': '__init__.CustomColoredFormatter', 'use_color': True}}, 'handlers': {'console': {'class': 'logging.StreamHandler', 'level': 'DEBUG', 'formatter': 'color', 'stream': 'ext://sys.stdout'}, 'file': {'class': 'logging.FileHandler', 'level': 'INFO', 'formatter': 'simple', 'filename': 'logs/census_app.log'}}, 'loggers': {'development': {'level': 'DEBUG', 'handlers': ['console'], 'propagate': False}, 'staging': {'level': 'INFO', 'handlers': ['console', 'file'], 'propagate': False}, 'production': {'level': 'WARNING', 'handlers': ['file'], 'propagate': False}}, 'root': {'level': 'DEBUG', 'handlers': ['console']}}, 'etl': {'data_path': 'data', 'orig_census': 'census.csv', 'preproc_census': 'preproc_census.csv', 'orig_census_dvc_url': 'data/census.csv', 'preproc_census_dvc_url': 'data/preproc_census.csv', 'test_data_orig_census': 'tests/df_test_1500raw.csv', 'fnlgt_range': 'range(0, 1550000, 50000)', 'non_converting_countries': ['Canada', 'United-States', 'Mexico', 'Hongkong', 'China', 'Japan', 'Taiwan', 'Russia', 'Outlying-US'], 'north_west_south_europe': ['Denmark', 'Estonia', 'Esthonia', 'Finland', 'Iceland', 'Latvia', 'Lithuania', 'Norway', 'Sweden', 'Belgium', 'France', 'Ireland', 'Eire', 'Liechtenstein', 'Luxembourg', 'Luxemburg', 'Netherland', 'Austria', 'Switzerland', 'United-Kingdom', 'Andorra', 'Italy', 'Malta', 'Monaco', 'Portugal', 'San-Marino', 'Slovenia', 'Spain', 'Vatican-City', 'Germany', 'ex-German-Democratic-Republic', 'ex-GDR'], 'south_east_europe': ['Moldavia', 'Moldova', 'Poland', 'Slovakia', 'Czechia', 'Czech-Republic', 'Ukraine', 'Hungary', 'Belarus', 'Belorussia', 'Byelorussia', 'Albania', 'Bosnia-Herzegovina', 'Bosnia-and-Herzegovina', 'Bosnia&Herzegovina', 'Bulgaria', 'Greece', 'Kosovo', 'Croatia', 'Macedonia', 'Montenegro', 'Romania', 'Rumania', 'Serbia', 'Cybrus', 'ex-Yugoslavia'], 'caribbean': ['Antigua-and-Barbuda', 'Bahamas', 'Barbados', 'Cuba', 'Dominica', 'Dominican-Republic', 'Grenada', 'Haiti', 'Jamaica', 'Saint-Christopher-and-Nevis', 'Saint-Christopher&Nevis', 'Saint-Lucia', 'Saint-Vincent-and-the-Grenadines', 'Saint-Vincent&the-Grenadines', 'Trinidad-and-Tobago', 'Trinidad&Tobago'], 'central_america': ['Belize', 'Guatemala', 'Honduras', 'Costa-Rica', 'Nicaragua', 'Panama', 'Salvador', 'El-Salvador'], 'south_america': ['Argentina', 'Bolivia', 'Brazil', 'Chile', 'Ecuador', 'Guyana', 'Columbia', 'Paraguay', 'Peru', 'Surinam', 'Suriname', 'Uruguay', 'Venezuela'], 'australia': ['Australia', 'New-Zealand'], 'south_east_asia': ['Brunei', 'Indonesia', 'Cambodia', 'Laos', 'Malaysia', 'Myanmar', 'ex-Burma', 'ex-Birma', 'East-Timor', 'Philippines', 'Singapore', 'Thailand', 'Vietnam', 'Viet-Nam'], 'south_middle_asia': ['Afghanistan', 'Bangladesh', 'Bhutan', 'India', 'Iran', 'Kasakhstan', 'Kasakhstan', 'Kyrgyzstan', 'Maldives', 'Nepal', 'Pakistan', 'Sri-Lanka', 'Tajikistan', 'Turkmenistan', 'Uzbekistan'], 'east_asia': ['China', 'Japan', 'North-Korea', 'South-Korea', 'Mongolia', 'Taiwan']}, 'eda': {'eda_path': 'src/eda', 'plots_path': 'plots', 'orig_report_title': 'US Census Profiling Report - original data', 'orig_census_report': 'eda_census_orig_report.html', 'preproc_report_title': 'US Census Profiling Report - modified, encoded final data', 'preproc_census_report': 'eda_census_preproc_report.html'}, 'model': {'slice_output_file': 'slice_output.txt', 'models_path': 'models', 'col_transformer': 'final_col_transformer_artifact.pkl', 'final_xgb_artifact': 'final_xgb_cls_artifact.pkl', 'training_target': 'salary', 'test_size': 0.2, 'val_size': 0.2, 'random_seed': 42, 'n_jobs': -1, 'cv': 5, 'verbose': 1, 'scoring': 'None', 'early_stopping_rounds': 30, 'random_forest': {'n_estimators': 100, 'max_depth': 15, 'min_samples_split': 4, 'min_samples_leaf': 3, 'criterion': 'gini', 'max_features': 'sqrt', 'oob_score': True, 'output_artifact': 'rf_cls_model.pkl'}, 'xgb_cls': {'objective': 'binary:logistic', 'eval_metric': ['error', 'logloss'], 'n_estimators': 100, 'max_depth': 6, 'min_child_weight': 1, 'subsample': 1, 'colsample_bytree': 1, 'learning_rate': 0.3, 'output_artifact': 'xgb_cls_model.pkl'}, 'xgb_cls_cv': {'objective': ['binary:logistic'], 'eval_metric': ['error', 'logloss'], 'n_estimators': [100, 150, 200, 250], 'max_depth': [5, 6, 8, 9], 'learning_rate': [0.01, 0.1, 0.5], 'gamma': [0, 1, 10], 'colsample_bytree': [0.5, 0.7, 1], 'reg_alpha': [0.01, 0.1, 0.5], 'reg_lambda': [0.01, 0.1, 0.5], 'output_artifact': 'xgb_cls_cv_model.pkl'}}}\n",
      "config_file:\n",
      " {'main': {'project_name': 'census-project'}, 'logging': {'version': 1, 'disable_existing_loggers': False, 'formatters': {'simple': {'format': '%(asctime)s - %(name)s - %(levelname)s - %(message)s', 'datefmt': '%Y-%m-%d %H:%M:%S'}, 'color': {'format': '%(asctime)s - %(threadName)s - %(name)s - %(levelname)s - %(message)s - %(lineno)s', '()': '__init__.CustomColoredFormatter', 'use_color': True}}, 'handlers': {'console': {'class': 'logging.StreamHandler', 'level': 'DEBUG', 'formatter': 'color', 'stream': 'ext://sys.stdout'}, 'file': {'class': 'logging.FileHandler', 'level': 'INFO', 'formatter': 'simple', 'filename': 'logs/census_app.log'}}, 'loggers': {'development': {'level': 'DEBUG', 'handlers': ['console'], 'propagate': False}, 'staging': {'level': 'INFO', 'handlers': ['console', 'file'], 'propagate': False}, 'production': {'level': 'WARNING', 'handlers': ['file'], 'propagate': False}}, 'root': {'level': 'DEBUG', 'handlers': ['console']}}, 'etl': {'data_path': 'data', 'orig_census': 'census.csv', 'preproc_census': 'preproc_census.csv', 'orig_census_dvc_url': 'data/census.csv', 'preproc_census_dvc_url': 'data/preproc_census.csv', 'test_data_orig_census': 'tests/df_test_1500raw.csv', 'fnlgt_range': 'range(0, 1550000, 50000)', 'non_converting_countries': ['Canada', 'United-States', 'Mexico', 'Hongkong', 'China', 'Japan', 'Taiwan', 'Russia', 'Outlying-US'], 'north_west_south_europe': ['Denmark', 'Estonia', 'Esthonia', 'Finland', 'Iceland', 'Latvia', 'Lithuania', 'Norway', 'Sweden', 'Belgium', 'France', 'Ireland', 'Eire', 'Liechtenstein', 'Luxembourg', 'Luxemburg', 'Netherland', 'Austria', 'Switzerland', 'United-Kingdom', 'Andorra', 'Italy', 'Malta', 'Monaco', 'Portugal', 'San-Marino', 'Slovenia', 'Spain', 'Vatican-City', 'Germany', 'ex-German-Democratic-Republic', 'ex-GDR'], 'south_east_europe': ['Moldavia', 'Moldova', 'Poland', 'Slovakia', 'Czechia', 'Czech-Republic', 'Ukraine', 'Hungary', 'Belarus', 'Belorussia', 'Byelorussia', 'Albania', 'Bosnia-Herzegovina', 'Bosnia-and-Herzegovina', 'Bosnia&Herzegovina', 'Bulgaria', 'Greece', 'Kosovo', 'Croatia', 'Macedonia', 'Montenegro', 'Romania', 'Rumania', 'Serbia', 'Cybrus', 'ex-Yugoslavia'], 'caribbean': ['Antigua-and-Barbuda', 'Bahamas', 'Barbados', 'Cuba', 'Dominica', 'Dominican-Republic', 'Grenada', 'Haiti', 'Jamaica', 'Saint-Christopher-and-Nevis', 'Saint-Christopher&Nevis', 'Saint-Lucia', 'Saint-Vincent-and-the-Grenadines', 'Saint-Vincent&the-Grenadines', 'Trinidad-and-Tobago', 'Trinidad&Tobago'], 'central_america': ['Belize', 'Guatemala', 'Honduras', 'Costa-Rica', 'Nicaragua', 'Panama', 'Salvador', 'El-Salvador'], 'south_america': ['Argentina', 'Bolivia', 'Brazil', 'Chile', 'Ecuador', 'Guyana', 'Columbia', 'Paraguay', 'Peru', 'Surinam', 'Suriname', 'Uruguay', 'Venezuela'], 'australia': ['Australia', 'New-Zealand'], 'south_east_asia': ['Brunei', 'Indonesia', 'Cambodia', 'Laos', 'Malaysia', 'Myanmar', 'ex-Burma', 'ex-Birma', 'East-Timor', 'Philippines', 'Singapore', 'Thailand', 'Vietnam', 'Viet-Nam'], 'south_middle_asia': ['Afghanistan', 'Bangladesh', 'Bhutan', 'India', 'Iran', 'Kasakhstan', 'Kasakhstan', 'Kyrgyzstan', 'Maldives', 'Nepal', 'Pakistan', 'Sri-Lanka', 'Tajikistan', 'Turkmenistan', 'Uzbekistan'], 'east_asia': ['China', 'Japan', 'North-Korea', 'South-Korea', 'Mongolia', 'Taiwan']}, 'eda': {'eda_path': 'src/eda', 'plots_path': 'plots', 'orig_report_title': 'US Census Profiling Report - original data', 'orig_census_report': 'eda_census_orig_report.html', 'preproc_report_title': 'US Census Profiling Report - modified, encoded final data', 'preproc_census_report': 'eda_census_preproc_report.html'}, 'model': {'slice_output_file': 'slice_output.txt', 'models_path': 'models', 'col_transformer': 'final_col_transformer_artifact.pkl', 'final_xgb_artifact': 'final_xgb_cls_artifact.pkl', 'training_target': 'salary', 'test_size': 0.2, 'val_size': 0.2, 'random_seed': 42, 'n_jobs': -1, 'cv': 5, 'verbose': 1, 'scoring': 'None', 'early_stopping_rounds': 30, 'random_forest': {'n_estimators': 100, 'max_depth': 15, 'min_samples_split': 4, 'min_samples_leaf': 3, 'criterion': 'gini', 'max_features': 'sqrt', 'oob_score': True, 'output_artifact': 'rf_cls_model.pkl'}, 'xgb_cls': {'objective': 'binary:logistic', 'eval_metric': ['error', 'logloss'], 'n_estimators': 100, 'max_depth': 6, 'min_child_weight': 1, 'subsample': 1, 'colsample_bytree': 1, 'learning_rate': 0.3, 'output_artifact': 'xgb_cls_model.pkl'}, 'xgb_cls_cv': {'objective': ['binary:logistic'], 'eval_metric': ['error', 'logloss'], 'n_estimators': [100, 150, 200, 250], 'max_depth': [5, 6, 8, 9], 'learning_rate': [0.01, 0.1, 0.5], 'gamma': [0, 1, 10], 'colsample_bytree': [0.5, 0.7, 1], 'reg_alpha': [0.01, 0.1, 0.5], 'reg_lambda': [0.01, 0.1, 0.5], 'output_artifact': 'xgb_cls_cv_model.pkl'}}}\n"
     ]
    }
   ],
   "source": [
    "config_file = get_config()\n",
    "print(f\"config_file:\\n {config_file}\")"
   ]
  },
  {
   "cell_type": "code",
   "execution_count": 4,
   "id": "88561972-d608-4cf5-977a-fadfccc0e12c",
   "metadata": {},
   "outputs": [
    {
     "name": "stdout",
     "output_type": "stream",
     "text": [
      "Sleep time is over. Subset csv file with 1500 rows shall be stored.\n"
     ]
    }
   ],
   "source": [
    "# df creation and storage\n",
    "data = '../' + config_file['etl']['orig_census_dvc_url']\n",
    "df_test_raw = pd.read_csv(data)[:1500]\n",
    " \n",
    "# store test dataframe as .csv files in tests dir,\n",
    "# reason for that workflow:\n",
    "# dvc handling with github actions with 'local remote' dvc setting is not working as expected,\n",
    "# issue with creating fixtures for unit tests\n",
    "filepath = Path('./df_test_1500raw.csv')  \n",
    "filepath.parent.mkdir(parents=True, exist_ok=True)  \n",
    "df_test_raw.to_csv(filepath, index=False)\n",
    "time.sleep(15)\n",
    "print('Sleep time is over. Subset csv file with 1500 rows shall be stored.')"
   ]
  },
  {
   "cell_type": "code",
   "execution_count": 5,
   "id": "c2c2fb50-e338-4f7c-bea9-801a193dc436",
   "metadata": {},
   "outputs": [
    {
     "data": {
      "text/html": [
       "<div>\n",
       "<style scoped>\n",
       "    .dataframe tbody tr th:only-of-type {\n",
       "        vertical-align: middle;\n",
       "    }\n",
       "\n",
       "    .dataframe tbody tr th {\n",
       "        vertical-align: top;\n",
       "    }\n",
       "\n",
       "    .dataframe thead th {\n",
       "        text-align: right;\n",
       "    }\n",
       "</style>\n",
       "<table border=\"1\" class=\"dataframe\">\n",
       "  <thead>\n",
       "    <tr style=\"text-align: right;\">\n",
       "      <th></th>\n",
       "      <th>age</th>\n",
       "      <th>workclass</th>\n",
       "      <th>fnlgt</th>\n",
       "      <th>education</th>\n",
       "      <th>education-num</th>\n",
       "      <th>marital-status</th>\n",
       "      <th>occupation</th>\n",
       "      <th>relationship</th>\n",
       "      <th>race</th>\n",
       "      <th>sex</th>\n",
       "      <th>capital-gain</th>\n",
       "      <th>capital-loss</th>\n",
       "      <th>hours-per-week</th>\n",
       "      <th>native-country</th>\n",
       "      <th>salary</th>\n",
       "    </tr>\n",
       "  </thead>\n",
       "  <tbody>\n",
       "    <tr>\n",
       "      <th>0</th>\n",
       "      <td>39</td>\n",
       "      <td>State-gov</td>\n",
       "      <td>77516</td>\n",
       "      <td>Bachelors</td>\n",
       "      <td>13</td>\n",
       "      <td>Never-married</td>\n",
       "      <td>Adm-clerical</td>\n",
       "      <td>Not-in-family</td>\n",
       "      <td>White</td>\n",
       "      <td>Male</td>\n",
       "      <td>2174</td>\n",
       "      <td>0</td>\n",
       "      <td>40</td>\n",
       "      <td>United-States</td>\n",
       "      <td>&lt;=50K</td>\n",
       "    </tr>\n",
       "    <tr>\n",
       "      <th>1</th>\n",
       "      <td>50</td>\n",
       "      <td>Self-emp-not-inc</td>\n",
       "      <td>83311</td>\n",
       "      <td>Bachelors</td>\n",
       "      <td>13</td>\n",
       "      <td>Married-civ-spouse</td>\n",
       "      <td>Exec-managerial</td>\n",
       "      <td>Husband</td>\n",
       "      <td>White</td>\n",
       "      <td>Male</td>\n",
       "      <td>0</td>\n",
       "      <td>0</td>\n",
       "      <td>13</td>\n",
       "      <td>United-States</td>\n",
       "      <td>&lt;=50K</td>\n",
       "    </tr>\n",
       "    <tr>\n",
       "      <th>2</th>\n",
       "      <td>38</td>\n",
       "      <td>Private</td>\n",
       "      <td>215646</td>\n",
       "      <td>HS-grad</td>\n",
       "      <td>9</td>\n",
       "      <td>Divorced</td>\n",
       "      <td>Handlers-cleaners</td>\n",
       "      <td>Not-in-family</td>\n",
       "      <td>White</td>\n",
       "      <td>Male</td>\n",
       "      <td>0</td>\n",
       "      <td>0</td>\n",
       "      <td>40</td>\n",
       "      <td>United-States</td>\n",
       "      <td>&lt;=50K</td>\n",
       "    </tr>\n",
       "    <tr>\n",
       "      <th>3</th>\n",
       "      <td>53</td>\n",
       "      <td>Private</td>\n",
       "      <td>234721</td>\n",
       "      <td>11th</td>\n",
       "      <td>7</td>\n",
       "      <td>Married-civ-spouse</td>\n",
       "      <td>Handlers-cleaners</td>\n",
       "      <td>Husband</td>\n",
       "      <td>Black</td>\n",
       "      <td>Male</td>\n",
       "      <td>0</td>\n",
       "      <td>0</td>\n",
       "      <td>40</td>\n",
       "      <td>United-States</td>\n",
       "      <td>&lt;=50K</td>\n",
       "    </tr>\n",
       "    <tr>\n",
       "      <th>4</th>\n",
       "      <td>28</td>\n",
       "      <td>Private</td>\n",
       "      <td>338409</td>\n",
       "      <td>Bachelors</td>\n",
       "      <td>13</td>\n",
       "      <td>Married-civ-spouse</td>\n",
       "      <td>Prof-specialty</td>\n",
       "      <td>Wife</td>\n",
       "      <td>Black</td>\n",
       "      <td>Female</td>\n",
       "      <td>0</td>\n",
       "      <td>0</td>\n",
       "      <td>40</td>\n",
       "      <td>Cuba</td>\n",
       "      <td>&lt;=50K</td>\n",
       "    </tr>\n",
       "  </tbody>\n",
       "</table>\n",
       "</div>"
      ],
      "text/plain": [
       "   age          workclass   fnlgt   education   education-num  \\\n",
       "0   39          State-gov   77516   Bachelors              13   \n",
       "1   50   Self-emp-not-inc   83311   Bachelors              13   \n",
       "2   38            Private  215646     HS-grad               9   \n",
       "3   53            Private  234721        11th               7   \n",
       "4   28            Private  338409   Bachelors              13   \n",
       "\n",
       "        marital-status          occupation    relationship    race      sex  \\\n",
       "0        Never-married        Adm-clerical   Not-in-family   White     Male   \n",
       "1   Married-civ-spouse     Exec-managerial         Husband   White     Male   \n",
       "2             Divorced   Handlers-cleaners   Not-in-family   White     Male   \n",
       "3   Married-civ-spouse   Handlers-cleaners         Husband   Black     Male   \n",
       "4   Married-civ-spouse      Prof-specialty            Wife   Black   Female   \n",
       "\n",
       "    capital-gain   capital-loss   hours-per-week  native-country  salary  \n",
       "0           2174              0               40   United-States   <=50K  \n",
       "1              0              0               13   United-States   <=50K  \n",
       "2              0              0               40   United-States   <=50K  \n",
       "3              0              0               40   United-States   <=50K  \n",
       "4              0              0               40            Cuba   <=50K  "
      ]
     },
     "execution_count": 5,
     "metadata": {},
     "output_type": "execute_result"
    }
   ],
   "source": [
    "df_test_raw.head()"
   ]
  },
  {
   "cell_type": "code",
   "execution_count": 6,
   "id": "1afda010-ffdf-44ff-9221-dac75327dc34",
   "metadata": {},
   "outputs": [
    {
     "name": "stdout",
     "output_type": "stream",
     "text": [
      "<class 'pandas.core.frame.DataFrame'>\n",
      "RangeIndex: 1500 entries, 0 to 1499\n",
      "Data columns (total 15 columns):\n",
      " #   Column           Non-Null Count  Dtype \n",
      "---  ------           --------------  ----- \n",
      " 0   age              1500 non-null   int64 \n",
      " 1    workclass       1500 non-null   object\n",
      " 2    fnlgt           1500 non-null   int64 \n",
      " 3    education       1500 non-null   object\n",
      " 4    education-num   1500 non-null   int64 \n",
      " 5    marital-status  1500 non-null   object\n",
      " 6    occupation      1500 non-null   object\n",
      " 7    relationship    1500 non-null   object\n",
      " 8    race            1500 non-null   object\n",
      " 9    sex             1500 non-null   object\n",
      " 10   capital-gain    1500 non-null   int64 \n",
      " 11   capital-loss    1500 non-null   int64 \n",
      " 12   hours-per-week  1500 non-null   int64 \n",
      " 13   native-country  1500 non-null   object\n",
      " 14   salary          1500 non-null   object\n",
      "dtypes: int64(6), object(9)\n",
      "memory usage: 175.9+ KB\n"
     ]
    }
   ],
   "source": [
    "df_test_raw.info()"
   ]
  }
 ],
 "metadata": {
  "kernelspec": {
   "display_name": "Python 3 (ipykernel)",
   "language": "python",
   "name": "python3"
  },
  "language_info": {
   "codemirror_mode": {
    "name": "ipython",
    "version": 3
   },
   "file_extension": ".py",
   "mimetype": "text/x-python",
   "name": "python",
   "nbconvert_exporter": "python",
   "pygments_lexer": "ipython3",
   "version": "3.10.9"
  }
 },
 "nbformat": 4,
 "nbformat_minor": 5
}
